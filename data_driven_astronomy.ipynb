{
  "nbformat": 4,
  "nbformat_minor": 0,
  "metadata": {
    "colab": {
      "name": "data_driven_astronomy.ipynb",
      "provenance": [],
      "authorship_tag": "ABX9TyOuy/xPJ1nZ9xBXVUxmsPjC",
      "include_colab_link": true
    },
    "kernelspec": {
      "name": "python3",
      "display_name": "Python 3"
    }
  },
  "cells": [
    {
      "cell_type": "markdown",
      "metadata": {
        "id": "view-in-github",
        "colab_type": "text"
      },
      "source": [
        "<a href=\"https://colab.research.google.com/github/navaneethsdk/Data-Driven-Astronomy/blob/master/data_driven_astronomy.ipynb\" target=\"_parent\"><img src=\"https://colab.research.google.com/assets/colab-badge.svg\" alt=\"Open In Colab\"/></a>"
      ]
    },
    {
      "cell_type": "markdown",
      "metadata": {
        "id": "B7TxMwEy1eXf",
        "colab_type": "text"
      },
      "source": [
        "VECTORIZATION CROSS MATCHIMG"
      ]
    },
    {
      "cell_type": "code",
      "metadata": {
        "id": "vqbbA1w806Tg",
        "colab_type": "code",
        "colab": {
          "base_uri": "https://localhost:8080/",
          "height": 136
        },
        "outputId": "e60ad1bc-e887-4a65-fa3c-5ba6c19cf2b9"
      },
      "source": [
        "# Write your crossmatch function here.\n",
        "import numpy as np\n",
        "\n",
        "import time\n",
        "def angular_dist(r1, d1, r2, d2):\n",
        "  a = np.sin(np.abs(d1 - d2)/2)**2\n",
        "  b = np.cos(d1)*np.cos(d2)*np.sin(np.abs(r1 - r2)/2)**2\n",
        "  return 2*np.arcsin(np.sqrt(a + b))\n",
        "\n",
        "def crossmatch(cat1, cat2, max_radius):\n",
        "  start = time.perf_counter()\n",
        "  max_radius = np.radians(max_radius)\n",
        "  \n",
        "  matches = []\n",
        "  no_matches = []\n",
        "\n",
        "  # Convert coordinates to radians\n",
        "  cat1 = np.radians(cat1)\n",
        "  cat2 = np.radians(cat2)\n",
        "  ra2s = cat2[:, 0]\n",
        "  dec2s = cat2[:, 1]\n",
        "\n",
        "  for id1, (ra1, dec1) in enumerate(cat1):\n",
        "    dists = angular_dist(ra1, dec1, ra2s, dec2s)\n",
        "    min_id = np.argmin(dists)\n",
        "    min_dist = dists[min_id]\n",
        "    if min_dist > max_radius:\n",
        "      no_matches.append(id1)\n",
        "    else:\n",
        "      matches.append((id1, min_id, np.degrees(min_dist)))\n",
        "    \n",
        "  time_taken = time.perf_counter() - start\n",
        "  return matches, no_matches, time_taken\n",
        "\n",
        "\n",
        "\n",
        "# You can use this to test your function.\n",
        "# Any code inside this `if` statement will be ignored by the automarker.\n",
        "if __name__ == '__main__':\n",
        "  # The example in the question\n",
        "  ra1, dec1 = np.radians([180, 30])\n",
        "  cat2 = [[180, 32], [55, 10], [302, -44]]\n",
        "  cat2 = np.radians(cat2)\n",
        "  ra2s, dec2s = cat2[:,0], cat2[:,1]\n",
        "  dists = angular_dist(ra1, dec1, ra2s, dec2s)\n",
        "  print(np.degrees(dists))\n",
        "\n",
        "  cat1 = np.array([[180, 30], [45, 10], [300, -45]])\n",
        "  cat2 = np.array([[180, 32], [55, 10], [302, -44]])\n",
        "  matches, no_matches, time_taken = crossmatch(cat1, cat2, 5)\n",
        "  print('matches:', matches)\n",
        "  print('unmatched:', no_matches)\n",
        "  print('time taken:', time_taken)\n",
        "\n",
        "  # A function to create a random catalogue of size n\n",
        "  def create_cat(n):\n",
        "    ras = np.random.uniform(0, 360, size=(n, 1))\n",
        "    decs = np.random.uniform(-90, 90, size=(n, 1))\n",
        "    return np.hstack((ras, decs))\n",
        "\n",
        "  # Test your function on random inputs\n",
        "  np.random.seed(0)\n",
        "  cat1 = create_cat(10)\n",
        "  cat2 = create_cat(20)\n",
        "  matches, no_matches, time_taken = crossmatch(cat1, cat2, 5)\n",
        "  print('matches:', matches)\n",
        "  print('unmatched:', no_matches)\n",
        "  print('time taken:', time_taken)\n"
      ],
      "execution_count": 1,
      "outputs": [
        {
          "output_type": "stream",
          "text": [
            "[  2.         113.72587199 132.64478705]\n",
            "matches: [(0, 0, 2.0000000000000027), (2, 2, 1.7420109046547023)]\n",
            "unmatched: [1]\n",
            "time taken: 0.00014911900001379763\n",
            "matches: []\n",
            "unmatched: [0, 1, 2, 3, 4, 5, 6, 7, 8, 9]\n",
            "time taken: 0.0005426419999992049\n"
          ],
          "name": "stdout"
        }
      ]
    },
    {
      "cell_type": "markdown",
      "metadata": {
        "id": "PUiaomc9oMbj",
        "colab_type": "text"
      },
      "source": [
        "KD trees"
      ]
    },
    {
      "cell_type": "code",
      "metadata": {
        "id": "LHfN8CAk1l0s",
        "colab_type": "code",
        "colab": {}
      },
      "source": [
        "# Write your crossmatch function here.\n",
        "import numpy as np\n",
        "from astropy.coordinates import SkyCoord\n",
        "from astropy import units as u\n",
        "import time\n",
        "def angular_dist(r1, d1, r2, d2):\n",
        "  a = np.sin(np.abs(d1 - d2)/2)**2\n",
        "  b = np.cos(d1)*np.cos(d2)*np.sin(np.abs(r1 - r2)/2)**2\n",
        "  return 2*np.arcsin(np.sqrt(a + b))\n",
        "\n",
        "def crossmatch(cat1, cat2, max_radius):\n",
        "  start = time.perf_counter()\n",
        "  matches = []\n",
        "  no_matches = []\n",
        "\n",
        "  # Convert to astropy coordinates objects\n",
        "  coords1_sc = SkyCoord(cat1*u.degree, frame='icrs')\n",
        "  coords2_sc = SkyCoord(cat2*u.degree, frame='icrs')\n",
        "\n",
        "  # Perform crossmatching\n",
        "  closest_ids, closest_dists, _ = coords1_sc.match_to_catalog_sky(coords2_sc)\n",
        "\n",
        "  for id1, (closest_id2, dist) in enumerate(zip(closest_ids, closest_dists)):\n",
        "      closest_dist = dist.value\n",
        "      # Ignore match if it's outside the maximum radius\n",
        "      if closest_dist > max_radius:\n",
        "          no_matches.append(id1)\n",
        "      else:\n",
        "          matches.append([id1, closest_id2, closest_dist])\n",
        "\n",
        "  time_taken = time.perf_counter() - start\n",
        "  return matches, no_matches, time_taken\n",
        "\n",
        "\n",
        "\n",
        "# You can use this to test your function.\n",
        "# Any code inside this `if` statement will be ignored by the automarker.\n",
        "if __name__ == '__main__':\n",
        "  # The example in the question\n",
        "  cat1 = np.array([[180, 30], [45, 10], [300, -45]])\n",
        "  cat2 = np.array([[180, 32], [55, 10], [302, -44]])\n",
        "  matches, no_matches, time_taken = crossmatch(cat1, cat2, 5)\n",
        "  print('matches:', matches)\n",
        "  print('unmatched:', no_matches)\n",
        "  print('time taken:', time_taken)\n",
        "\n",
        "  # A function to create a random catalogue of size n\n",
        "  def create_cat(n):\n",
        "    ras = np.random.uniform(0, 360, size=(n, 1))\n",
        "    decs = np.random.uniform(-90, 90, size=(n, 1))\n",
        "    return np.hstack((ras, decs))\n",
        "\n",
        "  # Test your function on random inputs\n",
        "  np.random.seed(0)\n",
        "  cat1 = create_cat(10)\n",
        "  cat2 = create_cat(20)\n",
        "  matches, no_matches, time_taken = crossmatch(cat1, cat2, 5)\n",
        "  print('matches:', matches)\n",
        "  print('unmatched:', no_matches)\n",
        "  print('time taken:', time_taken)\n"
      ],
      "execution_count": null,
      "outputs": []
    }
  ]
}