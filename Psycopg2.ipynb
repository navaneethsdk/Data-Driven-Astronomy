{
  "nbformat": 4,
  "nbformat_minor": 0,
  "metadata": {
    "colab": {
      "name": "Psycopg2.ipynb",
      "provenance": [],
      "authorship_tag": "ABX9TyPUj+pRA69lGuz3YDQSxCoJ",
      "include_colab_link": true
    },
    "kernelspec": {
      "name": "python3",
      "display_name": "Python 3"
    }
  },
  "cells": [
    {
      "cell_type": "markdown",
      "metadata": {
        "id": "view-in-github",
        "colab_type": "text"
      },
      "source": [
        "<a href=\"https://colab.research.google.com/github/navaneethsdk/Data-Driven-Astronomy/blob/master/Psycopg2.ipynb\" target=\"_parent\"><img src=\"https://colab.research.google.com/assets/colab-badge.svg\" alt=\"Open In Colab\"/></a>"
      ]
    },
    {
      "cell_type": "code",
      "metadata": {
        "id": "_Yk9Lb_9Ngze",
        "colab_type": "code",
        "colab": {
          "base_uri": "https://localhost:8080/",
          "height": 119
        },
        "outputId": "e72e980a-b667-4a23-ab6e-f1cdf37c7230"
      },
      "source": [
        "# Install postgresql server\n",
        "!sudo apt-get -y -qq update\n",
        "!sudo apt-get -y -qq install postgresql\n",
        "!sudo service postgresql start\n",
        "\n",
        "# Setup a password `postgres` for username `postgres`\n",
        "!sudo -u postgres psql -U postgres -c \"ALTER USER postgres PASSWORD 'postgres';\"\n",
        "\n",
        "# Setup a database with name `db` to be used\n",
        "!sudo -u postgres psql -U postgres -c 'DROP DATABASE IF EXISTS db;'\n",
        "!sudo -u postgres psql -U postgres -c 'CREATE DATABASE db;'"
      ],
      "execution_count": null,
      "outputs": [
        {
          "output_type": "stream",
          "text": [
            " * Starting PostgreSQL 10 database server\n",
            "   ...done.\n",
            "ALTER ROLE\n",
            "ERROR:  database \"db\" is being accessed by other users\n",
            "DETAIL:  There is 1 other session using the database.\n",
            "ERROR:  database \"db\" already exists\n"
          ],
          "name": "stdout"
        }
      ]
    },
    {
      "cell_type": "markdown",
      "metadata": {
        "id": "5OH_k2JtFqKa",
        "colab_type": "text"
      },
      "source": [
        "An advantage of using a popular language is the high probability that programmers before us have found solutions to our problems already. As such, there exists a Python module which allows us to interface with a PostgreSQL database, called Psycopg2.\n",
        "\n",
        "Using this module requires a quite advanced understanding of Python and SQL, so we'll start off with a very simple query and work through it step by step.\n",
        "\n",
        "Let's suppose we want to implement the following SQL query:\n",
        "SELECT 2 + 3;"
      ]
    },
    {
      "cell_type": "code",
      "metadata": {
        "id": "iNhyHknyQyxy",
        "colab_type": "code",
        "colab": {
          "base_uri": "https://localhost:8080/",
          "height": 102
        },
        "outputId": "80faaef9-eeff-4781-9b3e-c4acc6b1ef2e"
      },
      "source": [
        "%env TFIO_DEMO_DATABASE_NAME=db\n",
        "%env TFIO_DEMO_DATABASE_HOST=localhost\n",
        "%env TFIO_DEMO_DATABASE_PORT=5432\n",
        "%env TFIO_DEMO_DATABASE_USER=postgres\n",
        "%env TFIO_DEMO_DATABASE_PASS=postgres"
      ],
      "execution_count": null,
      "outputs": [
        {
          "output_type": "stream",
          "text": [
            "env: TFIO_DEMO_DATABASE_NAME=db\n",
            "env: TFIO_DEMO_DATABASE_HOST=localhost\n",
            "env: TFIO_DEMO_DATABASE_PORT=5432\n",
            "env: TFIO_DEMO_DATABASE_USER=postgres\n",
            "env: TFIO_DEMO_DATABASE_PASS=postgres\n"
          ],
          "name": "stdout"
        }
      ]
    },
    {
      "cell_type": "markdown",
      "metadata": {
        "id": "xWrir5ccSa_P",
        "colab_type": "text"
      },
      "source": [
        "upload init.sql on /content/ "
      ]
    },
    {
      "cell_type": "code",
      "metadata": {
        "id": "gu3RI2j8Q_Ru",
        "colab_type": "code",
        "colab": {
          "base_uri": "https://localhost:8080/",
          "height": 1000
        },
        "outputId": "00ed0c8c-b9f2-4a6f-8e41-0c804161046f"
      },
      "source": [
        "!PGPASSWORD=$TFIO_DEMO_DATABASE_PASS psql -q -h $TFIO_DEMO_DATABASE_HOST -p $TFIO_DEMO_DATABASE_PORT -U $TFIO_DEMO_DATABASE_USER -d $TFIO_DEMO_DATABASE_NAME -f init.sql"
      ],
      "execution_count": null,
      "outputs": [
        {
          "output_type": "stream",
          "text": [
            "psql:init.sql:6: ERROR:  relation \"star\" already exists\n",
            "psql:init.sql:17: ERROR:  relation \"planet\" already exists\n",
            "psql:init.sql:20: ERROR:  duplicate key value violates unique constraint \"star_pkey\"\n",
            "DETAIL:  Key (kepler_id)=(2713049) already exists.\n",
            "psql:init.sql:21: ERROR:  duplicate key value violates unique constraint \"star_pkey\"\n",
            "DETAIL:  Key (kepler_id)=(3114167) already exists.\n",
            "psql:init.sql:22: ERROR:  duplicate key value violates unique constraint \"star_pkey\"\n",
            "DETAIL:  Key (kepler_id)=(3115833) already exists.\n",
            "psql:init.sql:23: ERROR:  duplicate key value violates unique constraint \"star_pkey\"\n",
            "DETAIL:  Key (kepler_id)=(3246984) already exists.\n",
            "psql:init.sql:24: ERROR:  duplicate key value violates unique constraint \"star_pkey\"\n",
            "DETAIL:  Key (kepler_id)=(3342970) already exists.\n",
            "psql:init.sql:25: ERROR:  duplicate key value violates unique constraint \"star_pkey\"\n",
            "DETAIL:  Key (kepler_id)=(3351888) already exists.\n",
            "psql:init.sql:26: ERROR:  duplicate key value violates unique constraint \"star_pkey\"\n",
            "DETAIL:  Key (kepler_id)=(3453214) already exists.\n",
            "psql:init.sql:27: ERROR:  duplicate key value violates unique constraint \"star_pkey\"\n",
            "DETAIL:  Key (kepler_id)=(3641726) already exists.\n",
            "psql:init.sql:28: ERROR:  duplicate key value violates unique constraint \"star_pkey\"\n",
            "DETAIL:  Key (kepler_id)=(3832474) already exists.\n",
            "psql:init.sql:29: ERROR:  duplicate key value violates unique constraint \"star_pkey\"\n",
            "DETAIL:  Key (kepler_id)=(3935914) already exists.\n",
            "psql:init.sql:30: ERROR:  duplicate key value violates unique constraint \"star_pkey\"\n",
            "DETAIL:  Key (kepler_id)=(3940418) already exists.\n",
            "psql:init.sql:31: ERROR:  duplicate key value violates unique constraint \"star_pkey\"\n",
            "DETAIL:  Key (kepler_id)=(4049131) already exists.\n",
            "psql:init.sql:32: ERROR:  duplicate key value violates unique constraint \"star_pkey\"\n",
            "DETAIL:  Key (kepler_id)=(4139816) already exists.\n",
            "psql:init.sql:33: ERROR:  duplicate key value violates unique constraint \"star_pkey\"\n",
            "DETAIL:  Key (kepler_id)=(4275191) already exists.\n",
            "psql:init.sql:34: ERROR:  duplicate key value violates unique constraint \"star_pkey\"\n",
            "DETAIL:  Key (kepler_id)=(4476123) already exists.\n",
            "psql:init.sql:35: ERROR:  duplicate key value violates unique constraint \"star_pkey\"\n",
            "DETAIL:  Key (kepler_id)=(5358241) already exists.\n",
            "psql:init.sql:36: ERROR:  duplicate key value violates unique constraint \"star_pkey\"\n",
            "DETAIL:  Key (kepler_id)=(5358624) already exists.\n",
            "psql:init.sql:37: ERROR:  duplicate key value violates unique constraint \"star_pkey\"\n",
            "DETAIL:  Key (kepler_id)=(5456651) already exists.\n",
            "psql:init.sql:38: ERROR:  duplicate key value violates unique constraint \"star_pkey\"\n",
            "DETAIL:  Key (kepler_id)=(6862328) already exists.\n",
            "psql:init.sql:39: ERROR:  duplicate key value violates unique constraint \"star_pkey\"\n",
            "DETAIL:  Key (kepler_id)=(6922244) already exists.\n",
            "psql:init.sql:40: ERROR:  duplicate key value violates unique constraint \"star_pkey\"\n",
            "DETAIL:  Key (kepler_id)=(8395660) already exists.\n",
            "psql:init.sql:41: ERROR:  duplicate key value violates unique constraint \"star_pkey\"\n",
            "DETAIL:  Key (kepler_id)=(9579641) already exists.\n",
            "psql:init.sql:42: ERROR:  duplicate key value violates unique constraint \"star_pkey\"\n",
            "DETAIL:  Key (kepler_id)=(10187017) already exists.\n",
            "psql:init.sql:43: ERROR:  duplicate key value violates unique constraint \"star_pkey\"\n",
            "DETAIL:  Key (kepler_id)=(10480982) already exists.\n",
            "psql:init.sql:44: ERROR:  duplicate key value violates unique constraint \"star_pkey\"\n",
            "DETAIL:  Key (kepler_id)=(10526549) already exists.\n",
            "psql:init.sql:45: ERROR:  duplicate key value violates unique constraint \"star_pkey\"\n",
            "DETAIL:  Key (kepler_id)=(10583066) already exists.\n",
            "psql:init.sql:46: ERROR:  duplicate key value violates unique constraint \"star_pkey\"\n",
            "DETAIL:  Key (kepler_id)=(10601284) already exists.\n",
            "psql:init.sql:47: ERROR:  duplicate key value violates unique constraint \"star_pkey\"\n",
            "DETAIL:  Key (kepler_id)=(10662202) already exists.\n",
            "psql:init.sql:48: ERROR:  duplicate key value violates unique constraint \"star_pkey\"\n",
            "DETAIL:  Key (kepler_id)=(10666592) already exists.\n",
            "psql:init.sql:49: ERROR:  duplicate key value violates unique constraint \"star_pkey\"\n",
            "DETAIL:  Key (kepler_id)=(10682541) already exists.\n",
            "psql:init.sql:50: ERROR:  duplicate key value violates unique constraint \"star_pkey\"\n",
            "DETAIL:  Key (kepler_id)=(10797460) already exists.\n",
            "psql:init.sql:51: ERROR:  duplicate key value violates unique constraint \"star_pkey\"\n",
            "DETAIL:  Key (kepler_id)=(10811496) already exists.\n",
            "psql:init.sql:52: ERROR:  duplicate key value violates unique constraint \"star_pkey\"\n",
            "DETAIL:  Key (kepler_id)=(10848459) already exists.\n",
            "psql:init.sql:53: ERROR:  duplicate key value violates unique constraint \"star_pkey\"\n",
            "DETAIL:  Key (kepler_id)=(10854555) already exists.\n",
            "psql:init.sql:54: ERROR:  duplicate key value violates unique constraint \"star_pkey\"\n",
            "DETAIL:  Key (kepler_id)=(10872983) already exists.\n",
            "psql:init.sql:55: ERROR:  duplicate key value violates unique constraint \"star_pkey\"\n",
            "DETAIL:  Key (kepler_id)=(10875245) already exists.\n",
            "psql:init.sql:56: ERROR:  duplicate key value violates unique constraint \"star_pkey\"\n",
            "DETAIL:  Key (kepler_id)=(10910878) already exists.\n",
            "psql:init.sql:57: ERROR:  duplicate key value violates unique constraint \"star_pkey\"\n",
            "DETAIL:  Key (kepler_id)=(10984090) already exists.\n",
            "psql:init.sql:58: ERROR:  duplicate key value violates unique constraint \"star_pkey\"\n",
            "DETAIL:  Key (kepler_id)=(10987985) already exists.\n",
            "psql:init.sql:59: ERROR:  duplicate key value violates unique constraint \"star_pkey\"\n",
            "DETAIL:  Key (kepler_id)=(11018648) already exists.\n",
            "psql:init.sql:60: ERROR:  duplicate key value violates unique constraint \"star_pkey\"\n",
            "DETAIL:  Key (kepler_id)=(11138155) already exists.\n",
            "psql:init.sql:61: ERROR:  duplicate key value violates unique constraint \"star_pkey\"\n",
            "DETAIL:  Key (kepler_id)=(11153539) already exists.\n",
            "psql:init.sql:62: ERROR:  duplicate key value violates unique constraint \"star_pkey\"\n",
            "DETAIL:  Key (kepler_id)=(11304958) already exists.\n",
            "psql:init.sql:63: ERROR:  duplicate key value violates unique constraint \"star_pkey\"\n",
            "DETAIL:  Key (kepler_id)=(11391957) already exists.\n",
            "psql:init.sql:64: ERROR:  duplicate key value violates unique constraint \"star_pkey\"\n",
            "DETAIL:  Key (kepler_id)=(11403044) already exists.\n",
            "psql:init.sql:65: ERROR:  duplicate key value violates unique constraint \"star_pkey\"\n",
            "DETAIL:  Key (kepler_id)=(11414511) already exists.\n",
            "psql:init.sql:66: ERROR:  duplicate key value violates unique constraint \"star_pkey\"\n",
            "DETAIL:  Key (kepler_id)=(11460018) already exists.\n",
            "psql:init.sql:67: ERROR:  duplicate key value violates unique constraint \"star_pkey\"\n",
            "DETAIL:  Key (kepler_id)=(11465813) already exists.\n",
            "psql:init.sql:68: ERROR:  duplicate key value violates unique constraint \"star_pkey\"\n",
            "DETAIL:  Key (kepler_id)=(11493732) already exists.\n",
            "psql:init.sql:69: ERROR:  duplicate key value violates unique constraint \"star_pkey\"\n",
            "DETAIL:  Key (kepler_id)=(11507101) already exists.\n",
            "psql:init.sql:70: ERROR:  duplicate key value violates unique constraint \"star_pkey\"\n",
            "DETAIL:  Key (kepler_id)=(11754553) already exists.\n",
            "psql:init.sql:71: ERROR:  duplicate key value violates unique constraint \"star_pkey\"\n",
            "DETAIL:  Key (kepler_id)=(11812062) already exists.\n",
            "psql:init.sql:72: ERROR:  duplicate key value violates unique constraint \"star_pkey\"\n",
            "DETAIL:  Key (kepler_id)=(11818800) already exists.\n",
            "psql:init.sql:73: ERROR:  duplicate key value violates unique constraint \"star_pkey\"\n",
            "DETAIL:  Key (kepler_id)=(11853255) already exists.\n",
            "psql:init.sql:74: ERROR:  duplicate key value violates unique constraint \"star_pkey\"\n",
            "DETAIL:  Key (kepler_id)=(11904151) already exists.\n",
            "psql:init.sql:75: ERROR:  duplicate key value violates unique constraint \"star_pkey\"\n",
            "DETAIL:  Key (kepler_id)=(11918099) already exists.\n",
            "psql:init.sql:76: ERROR:  duplicate key value violates unique constraint \"star_pkey\"\n",
            "DETAIL:  Key (kepler_id)=(11923270) already exists.\n",
            "psql:init.sql:77: ERROR:  duplicate key value violates unique constraint \"star_pkey\"\n",
            "DETAIL:  Key (kepler_id)=(11960862) already exists.\n",
            "psql:init.sql:78: ERROR:  duplicate key value violates unique constraint \"star_pkey\"\n",
            "DETAIL:  Key (kepler_id)=(12020329) already exists.\n",
            "psql:init.sql:79: ERROR:  duplicate key value violates unique constraint \"star_pkey\"\n",
            "DETAIL:  Key (kepler_id)=(12066335) already exists.\n",
            "psql:init.sql:80: ERROR:  duplicate key value violates unique constraint \"star_pkey\"\n",
            "DETAIL:  Key (kepler_id)=(12070811) already exists.\n",
            "psql:init.sql:81: ERROR:  duplicate key value violates unique constraint \"star_pkey\"\n",
            "DETAIL:  Key (kepler_id)=(12110942) already exists.\n",
            "psql:init.sql:82: ERROR:  duplicate key value violates unique constraint \"star_pkey\"\n",
            "DETAIL:  Key (kepler_id)=(12366084) already exists.\n",
            "psql:init.sql:83: ERROR:  duplicate key value violates unique constraint \"star_pkey\"\n",
            "DETAIL:  Key (kepler_id)=(12404086) already exists.\n",
            "psql:init.sql:84: ERROR:  duplicate key value violates unique constraint \"star_pkey\"\n",
            "DETAIL:  Key (kepler_id)=(12470844) already exists.\n",
            "psql:init.sql:85: ERROR:  duplicate key value violates unique constraint \"star_pkey\"\n",
            "DETAIL:  Key (kepler_id)=(12644822) already exists.\n",
            "psql:init.sql:87: ERROR:  duplicate key value violates unique constraint \"planet_pkey\"\n",
            "DETAIL:  Key (koi_name)=(K00002.01) already exists.\n",
            "psql:init.sql:88: ERROR:  duplicate key value violates unique constraint \"planet_pkey\"\n",
            "DETAIL:  Key (koi_name)=(K00010.01) already exists.\n",
            "psql:init.sql:89: ERROR:  duplicate key value violates unique constraint \"planet_pkey\"\n",
            "DETAIL:  Key (koi_name)=(K00072.01) already exists.\n",
            "psql:init.sql:90: ERROR:  duplicate key value violates unique constraint \"planet_pkey\"\n",
            "DETAIL:  Key (koi_name)=(K00082.04) already exists.\n",
            "psql:init.sql:91: ERROR:  duplicate key value violates unique constraint \"planet_pkey\"\n",
            "DETAIL:  Key (koi_name)=(K00082.05) already exists.\n",
            "psql:init.sql:92: ERROR:  duplicate key value violates unique constraint \"planet_pkey\"\n",
            "DETAIL:  Key (koi_name)=(K00112.02) already exists.\n",
            "psql:init.sql:93: ERROR:  duplicate key value violates unique constraint \"planet_pkey\"\n",
            "DETAIL:  Key (koi_name)=(K00115.01) already exists.\n",
            "psql:init.sql:94: ERROR:  duplicate key value violates unique constraint \"planet_pkey\"\n",
            "DETAIL:  Key (koi_name)=(K00115.02) already exists.\n",
            "psql:init.sql:95: ERROR:  duplicate key value violates unique constraint \"planet_pkey\"\n",
            "DETAIL:  Key (koi_name)=(K00115.03) already exists.\n",
            "psql:init.sql:96: ERROR:  duplicate key value violates unique constraint \"planet_pkey\"\n",
            "DETAIL:  Key (koi_name)=(K00116.01) already exists.\n",
            "psql:init.sql:97: ERROR:  duplicate key value violates unique constraint \"planet_pkey\"\n",
            "DETAIL:  Key (koi_name)=(K00116.02) already exists.\n",
            "psql:init.sql:98: ERROR:  duplicate key value violates unique constraint \"planet_pkey\"\n",
            "DETAIL:  Key (koi_name)=(K00116.03) already exists.\n",
            "psql:init.sql:99: ERROR:  duplicate key value violates unique constraint \"planet_pkey\"\n",
            "DETAIL:  Key (koi_name)=(K00116.04) already exists.\n",
            "psql:init.sql:100: ERROR:  duplicate key value violates unique constraint \"planet_pkey\"\n",
            "DETAIL:  Key (koi_name)=(K00117.02) already exists.\n",
            "psql:init.sql:101: ERROR:  duplicate key value violates unique constraint \"planet_pkey\"\n",
            "DETAIL:  Key (koi_name)=(K00744.01) already exists.\n",
            "psql:init.sql:102: ERROR:  duplicate key value violates unique constraint \"planet_pkey\"\n",
            "DETAIL:  Key (koi_name)=(K00746.01) already exists.\n",
            "psql:init.sql:103: ERROR:  duplicate key value violates unique constraint \"planet_pkey\"\n",
            "DETAIL:  Key (koi_name)=(K00747.01) already exists.\n",
            "psql:init.sql:104: ERROR:  duplicate key value violates unique constraint \"planet_pkey\"\n",
            "DETAIL:  Key (koi_name)=(K00749.01) already exists.\n",
            "psql:init.sql:105: ERROR:  duplicate key value violates unique constraint \"planet_pkey\"\n",
            "DETAIL:  Key (koi_name)=(K00749.02) already exists.\n",
            "psql:init.sql:106: ERROR:  duplicate key value violates unique constraint \"planet_pkey\"\n",
            "DETAIL:  Key (koi_name)=(K00749.03) already exists.\n",
            "psql:init.sql:107: ERROR:  duplicate key value violates unique constraint \"planet_pkey\"\n",
            "DETAIL:  Key (koi_name)=(K00750.01) already exists.\n",
            "psql:init.sql:108: ERROR:  duplicate key value violates unique constraint \"planet_pkey\"\n",
            "DETAIL:  Key (koi_name)=(K00751.01) already exists.\n",
            "psql:init.sql:109: ERROR:  duplicate key value violates unique constraint \"planet_pkey\"\n",
            "DETAIL:  Key (koi_name)=(K00752.01) already exists.\n",
            "psql:init.sql:110: ERROR:  duplicate key value violates unique constraint \"planet_pkey\"\n",
            "DETAIL:  Key (koi_name)=(K00752.02) already exists.\n",
            "psql:init.sql:111: ERROR:  duplicate key value violates unique constraint \"planet_pkey\"\n",
            "DETAIL:  Key (koi_name)=(K00753.01) already exists.\n",
            "psql:init.sql:112: ERROR:  duplicate key value violates unique constraint \"planet_pkey\"\n",
            "DETAIL:  Key (koi_name)=(K00754.01) already exists.\n",
            "psql:init.sql:113: ERROR:  duplicate key value violates unique constraint \"planet_pkey\"\n",
            "DETAIL:  Key (koi_name)=(K00755.01) already exists.\n",
            "psql:init.sql:114: ERROR:  duplicate key value violates unique constraint \"planet_pkey\"\n",
            "DETAIL:  Key (koi_name)=(K00756.01) already exists.\n",
            "psql:init.sql:115: ERROR:  duplicate key value violates unique constraint \"planet_pkey\"\n",
            "DETAIL:  Key (koi_name)=(K00756.02) already exists.\n",
            "psql:init.sql:116: ERROR:  duplicate key value violates unique constraint \"planet_pkey\"\n",
            "DETAIL:  Key (koi_name)=(K00756.03) already exists.\n",
            "psql:init.sql:117: ERROR:  duplicate key value violates unique constraint \"planet_pkey\"\n",
            "DETAIL:  Key (koi_name)=(K00757.01) already exists.\n",
            "psql:init.sql:118: ERROR:  duplicate key value violates unique constraint \"planet_pkey\"\n",
            "DETAIL:  Key (koi_name)=(K00757.02) already exists.\n",
            "psql:init.sql:119: ERROR:  duplicate key value violates unique constraint \"planet_pkey\"\n",
            "DETAIL:  Key (koi_name)=(K00757.03) already exists.\n",
            "psql:init.sql:120: ERROR:  duplicate key value violates unique constraint \"planet_pkey\"\n",
            "DETAIL:  Key (koi_name)=(K00758.01) already exists.\n",
            "psql:init.sql:121: ERROR:  duplicate key value violates unique constraint \"planet_pkey\"\n",
            "DETAIL:  Key (koi_name)=(K00759.01) already exists.\n",
            "psql:init.sql:122: ERROR:  duplicate key value violates unique constraint \"planet_pkey\"\n",
            "DETAIL:  Key (koi_name)=(K00759.02) already exists.\n",
            "psql:init.sql:123: ERROR:  duplicate key value violates unique constraint \"planet_pkey\"\n",
            "DETAIL:  Key (koi_name)=(K00760.01) already exists.\n",
            "psql:init.sql:124: ERROR:  duplicate key value violates unique constraint \"planet_pkey\"\n",
            "DETAIL:  Key (koi_name)=(K00762.01) already exists.\n",
            "psql:init.sql:125: ERROR:  duplicate key value violates unique constraint \"planet_pkey\"\n",
            "DETAIL:  Key (koi_name)=(K00764.01) already exists.\n",
            "psql:init.sql:126: ERROR:  duplicate key value violates unique constraint \"planet_pkey\"\n",
            "DETAIL:  Key (koi_name)=(K00765.01) already exists.\n",
            "psql:init.sql:127: ERROR:  duplicate key value violates unique constraint \"planet_pkey\"\n",
            "DETAIL:  Key (koi_name)=(K00766.01) already exists.\n",
            "psql:init.sql:128: ERROR:  duplicate key value violates unique constraint \"planet_pkey\"\n",
            "DETAIL:  Key (koi_name)=(K00767.01) already exists.\n",
            "psql:init.sql:129: ERROR:  duplicate key value violates unique constraint \"planet_pkey\"\n",
            "DETAIL:  Key (koi_name)=(K00769.01) already exists.\n",
            "psql:init.sql:130: ERROR:  duplicate key value violates unique constraint \"planet_pkey\"\n",
            "DETAIL:  Key (koi_name)=(K00771.01) already exists.\n",
            "psql:init.sql:131: ERROR:  duplicate key value violates unique constraint \"planet_pkey\"\n",
            "DETAIL:  Key (koi_name)=(K00772.01) already exists.\n",
            "psql:init.sql:132: ERROR:  duplicate key value violates unique constraint \"planet_pkey\"\n",
            "DETAIL:  Key (koi_name)=(K00773.01) already exists.\n",
            "psql:init.sql:133: ERROR:  duplicate key value violates unique constraint \"planet_pkey\"\n",
            "DETAIL:  Key (koi_name)=(K00775.01) already exists.\n",
            "psql:init.sql:134: ERROR:  duplicate key value violates unique constraint \"planet_pkey\"\n",
            "DETAIL:  Key (koi_name)=(K00775.02) already exists.\n",
            "psql:init.sql:135: ERROR:  duplicate key value violates unique constraint \"planet_pkey\"\n",
            "DETAIL:  Key (koi_name)=(K00775.03) already exists.\n",
            "psql:init.sql:136: ERROR:  duplicate key value violates unique constraint \"planet_pkey\"\n",
            "DETAIL:  Key (koi_name)=(K00776.01) already exists.\n",
            "psql:init.sql:137: ERROR:  duplicate key value violates unique constraint \"planet_pkey\"\n",
            "DETAIL:  Key (koi_name)=(K00777.01) already exists.\n",
            "psql:init.sql:138: ERROR:  duplicate key value violates unique constraint \"planet_pkey\"\n",
            "DETAIL:  Key (koi_name)=(K00778.01) already exists.\n",
            "psql:init.sql:139: ERROR:  duplicate key value violates unique constraint \"planet_pkey\"\n",
            "DETAIL:  Key (koi_name)=(K00780.01) already exists.\n",
            "psql:init.sql:140: ERROR:  duplicate key value violates unique constraint \"planet_pkey\"\n",
            "DETAIL:  Key (koi_name)=(K00780.02) already exists.\n",
            "psql:init.sql:141: ERROR:  duplicate key value violates unique constraint \"planet_pkey\"\n",
            "DETAIL:  Key (koi_name)=(K00781.01) already exists.\n",
            "psql:init.sql:142: ERROR:  duplicate key value violates unique constraint \"planet_pkey\"\n",
            "DETAIL:  Key (koi_name)=(K00782.01) already exists.\n",
            "psql:init.sql:143: ERROR:  duplicate key value violates unique constraint \"planet_pkey\"\n",
            "DETAIL:  Key (koi_name)=(K00783.01) already exists.\n",
            "psql:init.sql:144: ERROR:  duplicate key value violates unique constraint \"planet_pkey\"\n",
            "DETAIL:  Key (koi_name)=(K00784.01) already exists.\n",
            "psql:init.sql:145: ERROR:  duplicate key value violates unique constraint \"planet_pkey\"\n",
            "DETAIL:  Key (koi_name)=(K00784.02) already exists.\n",
            "psql:init.sql:146: ERROR:  duplicate key value violates unique constraint \"planet_pkey\"\n",
            "DETAIL:  Key (koi_name)=(K00785.01) already exists.\n",
            "psql:init.sql:147: ERROR:  duplicate key value violates unique constraint \"planet_pkey\"\n",
            "DETAIL:  Key (koi_name)=(K00786.01) already exists.\n",
            "psql:init.sql:148: ERROR:  duplicate key value violates unique constraint \"planet_pkey\"\n",
            "DETAIL:  Key (koi_name)=(K00787.01) already exists.\n",
            "psql:init.sql:149: ERROR:  duplicate key value violates unique constraint \"planet_pkey\"\n",
            "DETAIL:  Key (koi_name)=(K00787.02) already exists.\n",
            "psql:init.sql:150: ERROR:  duplicate key value violates unique constraint \"planet_pkey\"\n",
            "DETAIL:  Key (koi_name)=(K00788.01) already exists.\n",
            "psql:init.sql:151: ERROR:  duplicate key value violates unique constraint \"planet_pkey\"\n",
            "DETAIL:  Key (koi_name)=(K00790.01) already exists.\n",
            "psql:init.sql:152: ERROR:  duplicate key value violates unique constraint \"planet_pkey\"\n",
            "DETAIL:  Key (koi_name)=(K00790.02) already exists.\n",
            "psql:init.sql:153: ERROR:  duplicate key value violates unique constraint \"planet_pkey\"\n",
            "DETAIL:  Key (koi_name)=(K00791.01) already exists.\n",
            "psql:init.sql:154: ERROR:  duplicate key value violates unique constraint \"planet_pkey\"\n",
            "DETAIL:  Key (koi_name)=(K00794.01) already exists.\n",
            "psql:init.sql:155: ERROR:  duplicate key value violates unique constraint \"planet_pkey\"\n",
            "DETAIL:  Key (koi_name)=(K00795.01) already exists.\n",
            "psql:init.sql:156: ERROR:  duplicate key value violates unique constraint \"planet_pkey\"\n",
            "DETAIL:  Key (koi_name)=(K00797.01) already exists.\n",
            "psql:init.sql:157: ERROR:  duplicate key value violates unique constraint \"planet_pkey\"\n",
            "DETAIL:  Key (koi_name)=(K00799.01) already exists.\n",
            "psql:init.sql:158: ERROR:  duplicate key value violates unique constraint \"planet_pkey\"\n",
            "DETAIL:  Key (koi_name)=(K00800.01) already exists.\n",
            "psql:init.sql:159: ERROR:  duplicate key value violates unique constraint \"planet_pkey\"\n",
            "DETAIL:  Key (koi_name)=(K00800.02) already exists.\n",
            "psql:init.sql:160: ERROR:  duplicate key value violates unique constraint \"planet_pkey\"\n",
            "DETAIL:  Key (koi_name)=(K00801.01) already exists.\n",
            "psql:init.sql:161: ERROR:  duplicate key value violates unique constraint \"planet_pkey\"\n",
            "DETAIL:  Key (koi_name)=(K00802.01) already exists.\n",
            "psql:init.sql:162: ERROR:  duplicate key value violates unique constraint \"planet_pkey\"\n",
            "DETAIL:  Key (koi_name)=(K00804.01) already exists.\n",
            "psql:init.sql:163: ERROR:  duplicate key value violates unique constraint \"planet_pkey\"\n",
            "DETAIL:  Key (koi_name)=(K00806.01) already exists.\n",
            "psql:init.sql:164: ERROR:  duplicate key value violates unique constraint \"planet_pkey\"\n",
            "DETAIL:  Key (koi_name)=(K00806.02) already exists.\n",
            "psql:init.sql:165: ERROR:  duplicate key value violates unique constraint \"planet_pkey\"\n",
            "DETAIL:  Key (koi_name)=(K00806.03) already exists.\n",
            "psql:init.sql:166: ERROR:  duplicate key value violates unique constraint \"planet_pkey\"\n",
            "DETAIL:  Key (koi_name)=(K00809.01) already exists.\n",
            "psql:init.sql:167: ERROR:  duplicate key value violates unique constraint \"planet_pkey\"\n",
            "DETAIL:  Key (koi_name)=(K00810.01) already exists.\n",
            "psql:init.sql:168: ERROR:  duplicate key value violates unique constraint \"planet_pkey\"\n",
            "DETAIL:  Key (koi_name)=(K00811.01) already exists.\n",
            "psql:init.sql:169: ERROR:  duplicate key value violates unique constraint \"planet_pkey\"\n",
            "DETAIL:  Key (koi_name)=(K00812.01) already exists.\n",
            "psql:init.sql:170: ERROR:  duplicate key value violates unique constraint \"planet_pkey\"\n",
            "DETAIL:  Key (koi_name)=(K00812.02) already exists.\n",
            "psql:init.sql:171: ERROR:  duplicate key value violates unique constraint \"planet_pkey\"\n",
            "DETAIL:  Key (koi_name)=(K00812.03) already exists.\n",
            "psql:init.sql:172: ERROR:  duplicate key value violates unique constraint \"planet_pkey\"\n",
            "DETAIL:  Key (koi_name)=(K00812.04) already exists.\n",
            "psql:init.sql:173: ERROR:  duplicate key value violates unique constraint \"planet_pkey\"\n",
            "DETAIL:  Key (koi_name)=(K00813.01) already exists.\n",
            "psql:init.sql:174: ERROR:  duplicate key value violates unique constraint \"planet_pkey\"\n",
            "DETAIL:  Key (koi_name)=(K00814.01) already exists.\n",
            "psql:init.sql:175: ERROR:  duplicate key value violates unique constraint \"planet_pkey\"\n",
            "DETAIL:  Key (koi_name)=(K00829.01) already exists.\n",
            "psql:init.sql:176: ERROR:  duplicate key value violates unique constraint \"planet_pkey\"\n",
            "DETAIL:  Key (koi_name)=(K00829.02) already exists.\n",
            "psql:init.sql:177: ERROR:  duplicate key value violates unique constraint \"planet_pkey\"\n",
            "DETAIL:  Key (koi_name)=(K00829.03) already exists.\n",
            "psql:init.sql:178: ERROR:  duplicate key value violates unique constraint \"planet_pkey\"\n",
            "DETAIL:  Key (koi_name)=(K00830.01) already exists.\n",
            "psql:init.sql:179: ERROR:  duplicate key value violates unique constraint \"planet_pkey\"\n",
            "DETAIL:  Key (koi_name)=(K00835.01) already exists.\n",
            "psql:init.sql:180: ERROR:  duplicate key value violates unique constraint \"planet_pkey\"\n",
            "DETAIL:  Key (koi_name)=(K00835.02) already exists.\n",
            "psql:init.sql:181: ERROR:  duplicate key value violates unique constraint \"planet_pkey\"\n",
            "DETAIL:  Key (koi_name)=(K00865.01) already exists.\n"
          ],
          "name": "stdout"
        }
      ]
    },
    {
      "cell_type": "code",
      "metadata": {
        "id": "8MwlH0ntFAgJ",
        "colab_type": "code",
        "colab": {
          "base_uri": "https://localhost:8080/",
          "height": 34
        },
        "outputId": "3bab091e-98dc-4131-f865-f56fcfbf7230"
      },
      "source": [
        "import psycopg2\n",
        "\n",
        "# Establish the connection\n",
        "conn = psycopg2.connect(host=\"localhost\",database=\"db\", user=\"postgres\", password=\"postgres\")\n",
        "cursor = conn.cursor()\n",
        "\n",
        "# Execute an SQL query and receive the output\n",
        "cursor.execute('SELECT 2 + 3;')\n",
        "records = cursor.fetchall()\n",
        "\n",
        "print(records)"
      ],
      "execution_count": null,
      "outputs": [
        {
          "output_type": "stream",
          "text": [
            "[(5,)]\n"
          ],
          "name": "stdout"
        }
      ]
    },
    {
      "cell_type": "markdown",
      "metadata": {
        "id": "pUtzsmv1HVx6",
        "colab_type": "text"
      },
      "source": [
        "We will go through the example on the last slide step by step.\n",
        "\n",
        "1. Establish a connection to the database\n",
        "\n",
        "conn = psycopg2.connect(dbname='db', user='grok')\n",
        "This command initialises a new database session and returns a connection object. We have to specify the name of the database and the name of the user. Note that the dbname is the name of the database, not a table in the database.\n",
        "\n",
        "Throughout this module we're calling our database 'db'. On your local machine, you would use your user account name for the user. Here we're going to use 'grok'.\n",
        "\n",
        "2. Create a cursor object\n",
        "\n",
        "cursor = conn.cursor()\n",
        "The cursor is the object that interfaces with the database. We can execute SQL queries and receive their output through this object. We can call the object's functions by using the dot (.) notation just like we do for modules. The two functions that we will use most often are execute and fetchall.\n",
        "\n",
        "3. Run a SQL query\n",
        "\n",
        "cursor.execute('SELECT 2 + 3;')\n",
        "To run a SQL query, we call the execute function, which is a function of the cursor object. This function takes the SQL query in form of a string as its argument.\n",
        "\n",
        "4. Receive the query return\n",
        "\n",
        "records = cursor.fetchall()\n",
        "The fetchall function returns the output of the last query. When taking SQL data into Python, the data types are converted to the closest match in Python data types. We'll have a closer look at this later."
      ]
    },
    {
      "cell_type": "markdown",
      "metadata": {
        "id": "hzx6mMCzL8_s",
        "colab_type": "text"
      },
      "source": [
        "Test"
      ]
    },
    {
      "cell_type": "code",
      "metadata": {
        "id": "q3Z_c_2qQK-0",
        "colab_type": "code",
        "colab": {
          "base_uri": "https://localhost:8080/",
          "height": 54
        },
        "outputId": "eb4a7905-0944-46de-e8f9-58852ee24491"
      },
      "source": [
        "def select_all(table):\n",
        "  cursor.execute('SELECT * FROM '+table+';')\n",
        "  records = cursor.fetchall()\n",
        "  return records\n",
        "print(select_all('Star'))"
      ],
      "execution_count": null,
      "outputs": [
        {
          "output_type": "stream",
          "text": [
            "[(2713049, 5996, 0.956), (3114167, 5666, 0.677), (3115833, 5995, 0.847), (3246984, 5735, 0.973), (3342970, 6167, 1.064), (3351888, 5717, 1.057), (3453214, 5733, 0.77), (3641726, 5349, 0.82), (3832474, 5485, 0.867), (3935914, 5934, 0.893), (3940418, 5170, 0.807), (4049131, 4905, 0.761), (4139816, 3887, 0.48), (4275191, 5557, 0.781), (4476123, 5413, 0.751), (5358241, 6079, 0.945), (5358624, 5071, 0.788), (5456651, 4980, 0.734), (6862328, 5796, 0.871), (6922244, 6225, 1.451), (8395660, 5881, 1.029), (9579641, 6391, 1.332), (10187017, 4812, 0.755), (10480982, 6117, 0.947), (10526549, 4856, 0.696), (10583066, 4536, 0.693), (10601284, 5559, 0.806), (10662202, 4722, 0.527), (10666592, 6350, 1.991), (10682541, 5339, 0.847), (10797460, 5850, 1.04), (10811496, 5853, 0.868), (10848459, 5795, 0.803), (10854555, 6031, 1.046), (10872983, 6046, 0.972), (10875245, 5851, 1.411), (10910878, 5126, 0.742), (10984090, 5803, 1.073), (10987985, 5015, 0.826), (11018648, 5588, 0.796), (11138155, 6117, 1.025), (11153539, 6075, 0.969), (11304958, 5468, 1.046), (11391957, 5592, 0.782), (11403044, 6174, 1.103), (11414511, 5653, 0.965), (11460018, 5641, 0.831), (11465813, 5520, 0.983), (11493732, 6144, 1.091), (11507101, 5957, 0.971), (11754553, 3898, 0.54), (11812062, 5492, 0.812), (11818800, 5446, 0.781), (11853255, 3741, 0.45), (11904151, 5627, 1.056), (11918099, 4989, 0.727), (11923270, 3672, 0.49), (11960862, 5992, 0.989), (12020329, 5485, 0.867), (12066335, 3767, 0.48), (12070811, 5557, 0.752), (12110942, 5880, 0.917), (12366084, 5841, 0.931), (12404086, 5127, 0.775), (12470844, 5354, 0.788), (12644822, 5795, 0.919)]\n"
          ],
          "name": "stdout"
        }
      ]
    },
    {
      "cell_type": "code",
      "metadata": {
        "id": "mgl3VwnIT1kD",
        "colab_type": "code",
        "colab": {
          "base_uri": "https://localhost:8080/",
          "height": 34
        },
        "outputId": "eab6b735-b0ce-420d-e4c2-38dcc921f650"
      },
      "source": [
        "def column_stats(table,col):\n",
        "  \n",
        "  import numpy as np\n",
        "  cursor.execute('SELECT '+col+' FROM '+table+';')\n",
        "  records = np.array(cursor.fetchall())\n",
        "  return (np.mean(records),np.median(records))\n",
        "print(column_stats('Star','t_eff'))"
      ],
      "execution_count": null,
      "outputs": [
        {
          "output_type": "stream",
          "text": [
            "(5490.681818181818, 5634.0)\n"
          ],
          "name": "stdout"
        }
      ]
    },
    {
      "cell_type": "code",
      "metadata": {
        "id": "GliqYXsggkEJ",
        "colab_type": "code",
        "colab": {}
      },
      "source": [
        ""
      ],
      "execution_count": null,
      "outputs": []
    }
  ]
}